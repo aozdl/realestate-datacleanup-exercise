{
 "cells": [
  {
   "attachments": {},
   "cell_type": "markdown",
   "id": "innocent-university",
   "metadata": {},
   "source": [
    "# Real Estate Clean up\n",
    "\n",
    "This is a real dataset, and it was downloaded using web scraping techniques. The data contains registers from **Fotocasa** which is one of the most popular real estate websites in Spain. Please, do not do this (web scraping) unless it is for academic purposes.\n",
    "\n",
    "The dataset was downloaded a few years ago by Henry Navarro, and in no case were economic returns obtained from it.\n",
    "\n",
    "It contains thousands of data from real houses published on the web www.fotocasa.com. Your goal is to extract as much information as possible with the knowledge you have so far about data science, for example what is the most expensive house in the entire dataset?\n",
    "\n",
    "Let's start with precisely that question... Good luck!"
   ]
  },
  {
   "attachments": {},
   "cell_type": "markdown",
   "id": "multiple-glass",
   "metadata": {},
   "source": [
    "#### Exercise 00. Read the dataset assets/real_estate.csv and try to visualize the table (★☆☆)"
   ]
  },
  {
   "cell_type": "code",
   "execution_count": null,
   "id": "df61f3ea",
   "metadata": {},
   "outputs": [
    {
     "name": "stdout",
     "output_type": "stream",
     "text": [
      "Defaulting to user installation because normal site-packages is not writeable\n",
      "Requirement already satisfied: seaborn in /home/vscode/.local/lib/python3.11/site-packages (0.13.2)\n",
      "Requirement already satisfied: numpy!=1.24.0,>=1.20 in /home/vscode/.local/lib/python3.11/site-packages (from seaborn) (2.0.1)\n",
      "Requirement already satisfied: pandas>=1.2 in /home/vscode/.local/lib/python3.11/site-packages (from seaborn) (2.2.2)\n",
      "Requirement already satisfied: matplotlib!=3.6.1,>=3.4 in /home/vscode/.local/lib/python3.11/site-packages (from seaborn) (3.9.1)\n",
      "Requirement already satisfied: contourpy>=1.0.1 in /home/vscode/.local/lib/python3.11/site-packages (from matplotlib!=3.6.1,>=3.4->seaborn) (1.2.1)\n",
      "Requirement already satisfied: cycler>=0.10 in /home/vscode/.local/lib/python3.11/site-packages (from matplotlib!=3.6.1,>=3.4->seaborn) (0.12.1)\n",
      "Requirement already satisfied: fonttools>=4.22.0 in /home/vscode/.local/lib/python3.11/site-packages (from matplotlib!=3.6.1,>=3.4->seaborn) (4.53.1)\n",
      "Requirement already satisfied: kiwisolver>=1.3.1 in /home/vscode/.local/lib/python3.11/site-packages (from matplotlib!=3.6.1,>=3.4->seaborn) (1.4.5)\n",
      "Requirement already satisfied: packaging>=20.0 in /home/vscode/.local/lib/python3.11/site-packages (from matplotlib!=3.6.1,>=3.4->seaborn) (24.1)\n",
      "Requirement already satisfied: pillow>=8 in /home/vscode/.local/lib/python3.11/site-packages (from matplotlib!=3.6.1,>=3.4->seaborn) (10.4.0)\n",
      "Requirement already satisfied: pyparsing>=2.3.1 in /home/vscode/.local/lib/python3.11/site-packages (from matplotlib!=3.6.1,>=3.4->seaborn) (3.1.2)\n",
      "Requirement already satisfied: python-dateutil>=2.7 in /home/vscode/.local/lib/python3.11/site-packages (from matplotlib!=3.6.1,>=3.4->seaborn) (2.9.0.post0)\n",
      "Requirement already satisfied: pytz>=2020.1 in /home/vscode/.local/lib/python3.11/site-packages (from pandas>=1.2->seaborn) (2024.1)\n",
      "Requirement already satisfied: tzdata>=2022.7 in /home/vscode/.local/lib/python3.11/site-packages (from pandas>=1.2->seaborn) (2024.1)\n",
      "Requirement already satisfied: six>=1.5 in /home/vscode/.local/lib/python3.11/site-packages (from python-dateutil>=2.7->matplotlib!=3.6.1,>=3.4->seaborn) (1.16.0)\n",
      "\n",
      "\u001b[1m[\u001b[0m\u001b[34;49mnotice\u001b[0m\u001b[1;39;49m]\u001b[0m\u001b[39;49m A new release of pip is available: \u001b[0m\u001b[31;49m23.1.2\u001b[0m\u001b[39;49m -> \u001b[0m\u001b[32;49m24.2\u001b[0m\n",
      "\u001b[1m[\u001b[0m\u001b[34;49mnotice\u001b[0m\u001b[1;39;49m]\u001b[0m\u001b[39;49m To update, run: \u001b[0m\u001b[32;49mpip install --upgrade pip\u001b[0m\n",
      "Note: you may need to restart the kernel to use updated packages.\n"
     ]
    }
   ],
   "source": [
    "%pip install seaborn"
   ]
  },
  {
   "cell_type": "code",
   "execution_count": 2,
   "id": "frank-heath",
   "metadata": {},
   "outputs": [
    {
     "data": {
      "text/html": [
       "<div>\n",
       "<style scoped>\n",
       "    .dataframe tbody tr th:only-of-type {\n",
       "        vertical-align: middle;\n",
       "    }\n",
       "\n",
       "    .dataframe tbody tr th {\n",
       "        vertical-align: top;\n",
       "    }\n",
       "\n",
       "    .dataframe thead th {\n",
       "        text-align: right;\n",
       "    }\n",
       "</style>\n",
       "<table border=\"1\" class=\"dataframe\">\n",
       "  <thead>\n",
       "    <tr style=\"text-align: right;\">\n",
       "      <th></th>\n",
       "      <th>Unnamed: 0</th>\n",
       "      <th>id_realEstates</th>\n",
       "      <th>isNew</th>\n",
       "      <th>realEstate_name</th>\n",
       "      <th>phone_realEstate</th>\n",
       "      <th>url_inmueble</th>\n",
       "      <th>rooms</th>\n",
       "      <th>bathrooms</th>\n",
       "      <th>surface</th>\n",
       "      <th>price</th>\n",
       "      <th>...</th>\n",
       "      <th>level4Id</th>\n",
       "      <th>level5Id</th>\n",
       "      <th>level6Id</th>\n",
       "      <th>level7Id</th>\n",
       "      <th>level8Id</th>\n",
       "      <th>accuracy</th>\n",
       "      <th>latitude</th>\n",
       "      <th>longitude</th>\n",
       "      <th>zipCode</th>\n",
       "      <th>customZone</th>\n",
       "    </tr>\n",
       "  </thead>\n",
       "  <tbody>\n",
       "    <tr>\n",
       "      <th>0</th>\n",
       "      <td>1</td>\n",
       "      <td>153771986</td>\n",
       "      <td>False</td>\n",
       "      <td>ferrari 57 inmobiliaria</td>\n",
       "      <td>912177526.0</td>\n",
       "      <td>https://www.fotocasa.es/es/comprar/vivienda/ma...</td>\n",
       "      <td>3.0</td>\n",
       "      <td>2.0</td>\n",
       "      <td>103.0</td>\n",
       "      <td>195000</td>\n",
       "      <td>...</td>\n",
       "      <td>0</td>\n",
       "      <td>0</td>\n",
       "      <td>0</td>\n",
       "      <td>0</td>\n",
       "      <td>0</td>\n",
       "      <td>0</td>\n",
       "      <td>40,2948276786438</td>\n",
       "      <td>-3,44402412135624</td>\n",
       "      <td>NaN</td>\n",
       "      <td>NaN</td>\n",
       "    </tr>\n",
       "    <tr>\n",
       "      <th>1</th>\n",
       "      <td>2</td>\n",
       "      <td>153867863</td>\n",
       "      <td>False</td>\n",
       "      <td>tecnocasa fuenlabrada ferrocarril</td>\n",
       "      <td>916358736.0</td>\n",
       "      <td>https://www.fotocasa.es/es/comprar/vivienda/ma...</td>\n",
       "      <td>3.0</td>\n",
       "      <td>1.0</td>\n",
       "      <td>NaN</td>\n",
       "      <td>89000</td>\n",
       "      <td>...</td>\n",
       "      <td>0</td>\n",
       "      <td>0</td>\n",
       "      <td>0</td>\n",
       "      <td>0</td>\n",
       "      <td>0</td>\n",
       "      <td>1</td>\n",
       "      <td>40,28674</td>\n",
       "      <td>-3,79351</td>\n",
       "      <td>NaN</td>\n",
       "      <td>NaN</td>\n",
       "    </tr>\n",
       "    <tr>\n",
       "      <th>2</th>\n",
       "      <td>3</td>\n",
       "      <td>153430440</td>\n",
       "      <td>False</td>\n",
       "      <td>look find boadilla</td>\n",
       "      <td>916350408.0</td>\n",
       "      <td>https://www.fotocasa.es/es/comprar/vivienda/ma...</td>\n",
       "      <td>2.0</td>\n",
       "      <td>2.0</td>\n",
       "      <td>99.0</td>\n",
       "      <td>390000</td>\n",
       "      <td>...</td>\n",
       "      <td>0</td>\n",
       "      <td>0</td>\n",
       "      <td>0</td>\n",
       "      <td>0</td>\n",
       "      <td>0</td>\n",
       "      <td>0</td>\n",
       "      <td>40,4115646786438</td>\n",
       "      <td>-3,90662252135624</td>\n",
       "      <td>NaN</td>\n",
       "      <td>NaN</td>\n",
       "    </tr>\n",
       "    <tr>\n",
       "      <th>3</th>\n",
       "      <td>4</td>\n",
       "      <td>152776331</td>\n",
       "      <td>False</td>\n",
       "      <td>tecnocasa fuenlabrada ferrocarril</td>\n",
       "      <td>916358736.0</td>\n",
       "      <td>https://www.fotocasa.es/es/comprar/vivienda/ma...</td>\n",
       "      <td>3.0</td>\n",
       "      <td>1.0</td>\n",
       "      <td>86.0</td>\n",
       "      <td>89000</td>\n",
       "      <td>...</td>\n",
       "      <td>0</td>\n",
       "      <td>0</td>\n",
       "      <td>0</td>\n",
       "      <td>0</td>\n",
       "      <td>0</td>\n",
       "      <td>0</td>\n",
       "      <td>40,2853785786438</td>\n",
       "      <td>-3,79508142135624</td>\n",
       "      <td>NaN</td>\n",
       "      <td>NaN</td>\n",
       "    </tr>\n",
       "    <tr>\n",
       "      <th>4</th>\n",
       "      <td>5</td>\n",
       "      <td>153180188</td>\n",
       "      <td>False</td>\n",
       "      <td>ferrari 57 inmobiliaria</td>\n",
       "      <td>912177526.0</td>\n",
       "      <td>https://www.fotocasa.es/es/comprar/vivienda/ma...</td>\n",
       "      <td>2.0</td>\n",
       "      <td>2.0</td>\n",
       "      <td>106.0</td>\n",
       "      <td>172000</td>\n",
       "      <td>...</td>\n",
       "      <td>0</td>\n",
       "      <td>0</td>\n",
       "      <td>0</td>\n",
       "      <td>0</td>\n",
       "      <td>0</td>\n",
       "      <td>0</td>\n",
       "      <td>40,2998774864376</td>\n",
       "      <td>-3,45226301356237</td>\n",
       "      <td>NaN</td>\n",
       "      <td>NaN</td>\n",
       "    </tr>\n",
       "    <tr>\n",
       "      <th>...</th>\n",
       "      <td>...</td>\n",
       "      <td>...</td>\n",
       "      <td>...</td>\n",
       "      <td>...</td>\n",
       "      <td>...</td>\n",
       "      <td>...</td>\n",
       "      <td>...</td>\n",
       "      <td>...</td>\n",
       "      <td>...</td>\n",
       "      <td>...</td>\n",
       "      <td>...</td>\n",
       "      <td>...</td>\n",
       "      <td>...</td>\n",
       "      <td>...</td>\n",
       "      <td>...</td>\n",
       "      <td>...</td>\n",
       "      <td>...</td>\n",
       "      <td>...</td>\n",
       "      <td>...</td>\n",
       "      <td>...</td>\n",
       "      <td>...</td>\n",
       "    </tr>\n",
       "    <tr>\n",
       "      <th>15330</th>\n",
       "      <td>15331</td>\n",
       "      <td>153901377</td>\n",
       "      <td>False</td>\n",
       "      <td>infocasa consulting</td>\n",
       "      <td>911360461.0</td>\n",
       "      <td>https://www.fotocasa.es/es/comprar/vivienda/ma...</td>\n",
       "      <td>2.0</td>\n",
       "      <td>1.0</td>\n",
       "      <td>96.0</td>\n",
       "      <td>259470</td>\n",
       "      <td>...</td>\n",
       "      <td>0</td>\n",
       "      <td>0</td>\n",
       "      <td>0</td>\n",
       "      <td>0</td>\n",
       "      <td>0</td>\n",
       "      <td>0</td>\n",
       "      <td>40,45416</td>\n",
       "      <td>-3,70286</td>\n",
       "      <td>NaN</td>\n",
       "      <td>NaN</td>\n",
       "    </tr>\n",
       "    <tr>\n",
       "      <th>15331</th>\n",
       "      <td>15332</td>\n",
       "      <td>150394373</td>\n",
       "      <td>False</td>\n",
       "      <td>inmobiliaria pulpon</td>\n",
       "      <td>912788039.0</td>\n",
       "      <td>https://www.fotocasa.es/es/comprar/vivienda/ma...</td>\n",
       "      <td>3.0</td>\n",
       "      <td>1.0</td>\n",
       "      <td>150.0</td>\n",
       "      <td>165000</td>\n",
       "      <td>...</td>\n",
       "      <td>0</td>\n",
       "      <td>0</td>\n",
       "      <td>0</td>\n",
       "      <td>0</td>\n",
       "      <td>0</td>\n",
       "      <td>0</td>\n",
       "      <td>40,36652</td>\n",
       "      <td>-3,48951</td>\n",
       "      <td>NaN</td>\n",
       "      <td>NaN</td>\n",
       "    </tr>\n",
       "    <tr>\n",
       "      <th>15332</th>\n",
       "      <td>15333</td>\n",
       "      <td>153901397</td>\n",
       "      <td>False</td>\n",
       "      <td>tecnocasa torrelodones</td>\n",
       "      <td>912780348.0</td>\n",
       "      <td>https://www.fotocasa.es/es/comprar/vivienda/ma...</td>\n",
       "      <td>4.0</td>\n",
       "      <td>2.0</td>\n",
       "      <td>175.0</td>\n",
       "      <td>495000</td>\n",
       "      <td>...</td>\n",
       "      <td>0</td>\n",
       "      <td>0</td>\n",
       "      <td>0</td>\n",
       "      <td>0</td>\n",
       "      <td>0</td>\n",
       "      <td>0</td>\n",
       "      <td>40,57444</td>\n",
       "      <td>-3,92124</td>\n",
       "      <td>NaN</td>\n",
       "      <td>NaN</td>\n",
       "    </tr>\n",
       "    <tr>\n",
       "      <th>15333</th>\n",
       "      <td>15334</td>\n",
       "      <td>152607440</td>\n",
       "      <td>False</td>\n",
       "      <td>inmobiliaria pulpon</td>\n",
       "      <td>912788039.0</td>\n",
       "      <td>https://www.fotocasa.es/es/comprar/vivienda/ma...</td>\n",
       "      <td>3.0</td>\n",
       "      <td>2.0</td>\n",
       "      <td>101.0</td>\n",
       "      <td>195000</td>\n",
       "      <td>...</td>\n",
       "      <td>0</td>\n",
       "      <td>0</td>\n",
       "      <td>0</td>\n",
       "      <td>0</td>\n",
       "      <td>0</td>\n",
       "      <td>0</td>\n",
       "      <td>40,36967</td>\n",
       "      <td>-3,48105</td>\n",
       "      <td>NaN</td>\n",
       "      <td>NaN</td>\n",
       "    </tr>\n",
       "    <tr>\n",
       "      <th>15334</th>\n",
       "      <td>15335</td>\n",
       "      <td>153901356</td>\n",
       "      <td>False</td>\n",
       "      <td>infocasa consulting</td>\n",
       "      <td>911360461.0</td>\n",
       "      <td>https://www.fotocasa.es/es/comprar/vivienda/ma...</td>\n",
       "      <td>3.0</td>\n",
       "      <td>2.0</td>\n",
       "      <td>152.0</td>\n",
       "      <td>765000</td>\n",
       "      <td>...</td>\n",
       "      <td>0</td>\n",
       "      <td>0</td>\n",
       "      <td>0</td>\n",
       "      <td>0</td>\n",
       "      <td>0</td>\n",
       "      <td>0</td>\n",
       "      <td>40,45773</td>\n",
       "      <td>-3,69068</td>\n",
       "      <td>NaN</td>\n",
       "      <td>NaN</td>\n",
       "    </tr>\n",
       "  </tbody>\n",
       "</table>\n",
       "<p>15335 rows × 37 columns</p>\n",
       "</div>"
      ],
      "text/plain": [
       "       Unnamed: 0  id_realEstates  isNew                    realEstate_name  \\\n",
       "0               1       153771986  False            ferrari 57 inmobiliaria   \n",
       "1               2       153867863  False  tecnocasa fuenlabrada ferrocarril   \n",
       "2               3       153430440  False                 look find boadilla   \n",
       "3               4       152776331  False  tecnocasa fuenlabrada ferrocarril   \n",
       "4               5       153180188  False            ferrari 57 inmobiliaria   \n",
       "...           ...             ...    ...                                ...   \n",
       "15330       15331       153901377  False                infocasa consulting   \n",
       "15331       15332       150394373  False                inmobiliaria pulpon   \n",
       "15332       15333       153901397  False             tecnocasa torrelodones   \n",
       "15333       15334       152607440  False                inmobiliaria pulpon   \n",
       "15334       15335       153901356  False                infocasa consulting   \n",
       "\n",
       "       phone_realEstate                                       url_inmueble  \\\n",
       "0           912177526.0  https://www.fotocasa.es/es/comprar/vivienda/ma...   \n",
       "1           916358736.0  https://www.fotocasa.es/es/comprar/vivienda/ma...   \n",
       "2           916350408.0  https://www.fotocasa.es/es/comprar/vivienda/ma...   \n",
       "3           916358736.0  https://www.fotocasa.es/es/comprar/vivienda/ma...   \n",
       "4           912177526.0  https://www.fotocasa.es/es/comprar/vivienda/ma...   \n",
       "...                 ...                                                ...   \n",
       "15330       911360461.0  https://www.fotocasa.es/es/comprar/vivienda/ma...   \n",
       "15331       912788039.0  https://www.fotocasa.es/es/comprar/vivienda/ma...   \n",
       "15332       912780348.0  https://www.fotocasa.es/es/comprar/vivienda/ma...   \n",
       "15333       912788039.0  https://www.fotocasa.es/es/comprar/vivienda/ma...   \n",
       "15334       911360461.0  https://www.fotocasa.es/es/comprar/vivienda/ma...   \n",
       "\n",
       "       rooms  bathrooms  surface   price  ... level4Id level5Id level6Id  \\\n",
       "0        3.0        2.0    103.0  195000  ...        0        0        0   \n",
       "1        3.0        1.0      NaN   89000  ...        0        0        0   \n",
       "2        2.0        2.0     99.0  390000  ...        0        0        0   \n",
       "3        3.0        1.0     86.0   89000  ...        0        0        0   \n",
       "4        2.0        2.0    106.0  172000  ...        0        0        0   \n",
       "...      ...        ...      ...     ...  ...      ...      ...      ...   \n",
       "15330    2.0        1.0     96.0  259470  ...        0        0        0   \n",
       "15331    3.0        1.0    150.0  165000  ...        0        0        0   \n",
       "15332    4.0        2.0    175.0  495000  ...        0        0        0   \n",
       "15333    3.0        2.0    101.0  195000  ...        0        0        0   \n",
       "15334    3.0        2.0    152.0  765000  ...        0        0        0   \n",
       "\n",
       "      level7Id level8Id accuracy          latitude          longitude zipCode  \\\n",
       "0            0        0        0  40,2948276786438  -3,44402412135624     NaN   \n",
       "1            0        0        1          40,28674           -3,79351     NaN   \n",
       "2            0        0        0  40,4115646786438  -3,90662252135624     NaN   \n",
       "3            0        0        0  40,2853785786438  -3,79508142135624     NaN   \n",
       "4            0        0        0  40,2998774864376  -3,45226301356237     NaN   \n",
       "...        ...      ...      ...               ...                ...     ...   \n",
       "15330        0        0        0          40,45416           -3,70286     NaN   \n",
       "15331        0        0        0          40,36652           -3,48951     NaN   \n",
       "15332        0        0        0          40,57444           -3,92124     NaN   \n",
       "15333        0        0        0          40,36967           -3,48105     NaN   \n",
       "15334        0        0        0          40,45773           -3,69068     NaN   \n",
       "\n",
       "      customZone  \n",
       "0            NaN  \n",
       "1            NaN  \n",
       "2            NaN  \n",
       "3            NaN  \n",
       "4            NaN  \n",
       "...          ...  \n",
       "15330        NaN  \n",
       "15331        NaN  \n",
       "15332        NaN  \n",
       "15333        NaN  \n",
       "15334        NaN  \n",
       "\n",
       "[15335 rows x 37 columns]"
      ]
     },
     "execution_count": 2,
     "metadata": {},
     "output_type": "execute_result"
    }
   ],
   "source": [
    "import pandas as pd\n",
    "import numpy as np\n",
    "import seaborn as sns\n",
    "import matplotlib.pyplot as plt\n",
    "\n",
    "# This CSV file contains semicolons instead of comas as separator\n",
    "ds = pd.read_csv('assets/real_estate.csv', sep=';')\n",
    "ds"
   ]
  },
  {
   "attachments": {},
   "cell_type": "markdown",
   "id": "latin-guest",
   "metadata": {},
   "source": [
    "#### Exercise 01. Which is the most expensive house in the dataset? (★☆☆)\n",
    "\n",
    "Print the address and the price of the selected house. For example:\n",
    "\n",
    "`The house with address General Street Nº5 is the most expensive and its price is 5000000 USD`"
   ]
  },
  {
   "cell_type": "code",
   "execution_count": 3,
   "id": "05774878",
   "metadata": {},
   "outputs": [
    {
     "name": "stdout",
     "output_type": "stream",
     "text": [
      "<class 'pandas.core.frame.DataFrame'>\n",
      "RangeIndex: 15335 entries, 0 to 15334\n",
      "Data columns (total 37 columns):\n",
      " #   Column            Non-Null Count  Dtype  \n",
      "---  ------            --------------  -----  \n",
      " 0   Unnamed: 0        15335 non-null  int64  \n",
      " 1   id_realEstates    15335 non-null  int64  \n",
      " 2   isNew             15335 non-null  bool   \n",
      " 3   realEstate_name   15325 non-null  object \n",
      " 4   phone_realEstate  14541 non-null  float64\n",
      " 5   url_inmueble      15335 non-null  object \n",
      " 6   rooms             14982 non-null  float64\n",
      " 7   bathrooms         14990 non-null  float64\n",
      " 8   surface           14085 non-null  float64\n",
      " 9   price             15335 non-null  int64  \n",
      " 10  date              15335 non-null  object \n",
      " 11  description       15193 non-null  object \n",
      " 12  address           15335 non-null  object \n",
      " 13  country           15335 non-null  object \n",
      " 14  level1            15335 non-null  object \n",
      " 15  level2            15335 non-null  object \n",
      " 16  level3            15335 non-null  object \n",
      " 17  level4            8692 non-null   object \n",
      " 18  level5            15335 non-null  object \n",
      " 19  level6            708 non-null    object \n",
      " 20  level7            13058 non-null  object \n",
      " 21  level8            6756 non-null   object \n",
      " 22  upperLevel        15335 non-null  object \n",
      " 23  countryId         15335 non-null  int64  \n",
      " 24  level1Id          15335 non-null  int64  \n",
      " 25  level2Id          15335 non-null  int64  \n",
      " 26  level3Id          15335 non-null  int64  \n",
      " 27  level4Id          15335 non-null  int64  \n",
      " 28  level5Id          15335 non-null  int64  \n",
      " 29  level6Id          15335 non-null  int64  \n",
      " 30  level7Id          15335 non-null  int64  \n",
      " 31  level8Id          15335 non-null  int64  \n",
      " 32  accuracy          15335 non-null  int64  \n",
      " 33  latitude          15335 non-null  object \n",
      " 34  longitude         15335 non-null  object \n",
      " 35  zipCode           0 non-null      float64\n",
      " 36  customZone        0 non-null      float64\n",
      "dtypes: bool(1), float64(6), int64(13), object(17)\n",
      "memory usage: 4.2+ MB\n"
     ]
    }
   ],
   "source": [
    "ds.info()"
   ]
  },
  {
   "cell_type": "code",
   "execution_count": 4,
   "id": "developing-optimum",
   "metadata": {},
   "outputs": [
    {
     "name": "stdout",
     "output_type": "stream",
     "text": [
      "The house with address El Escorial is the most expensive and its price is 8500000 usd\n"
     ]
    }
   ],
   "source": [
    "sorted_ds = ds[[\"price\",\"address\"]].sort_values(by = \"price\",ascending = False)\n",
    "max_price = sorted_ds.iloc[0,0]\n",
    "#print(max_price)\n",
    "max_address = sorted_ds.iloc[0,1]\n",
    "print(f\"The house with address {max_address} is the most expensive and its price is {max_price} usd\")\n"
   ]
  },
  {
   "attachments": {},
   "cell_type": "markdown",
   "id": "lesser-cosmetic",
   "metadata": {},
   "source": [
    "#### Exercise 02. Which is the cheapest house in the dataset? (★☆☆)\n",
    "\n",
    "Print the address and the price of the selected house. For example:\n",
    "\n",
    "`The house with address Concrete Street Nº1 is the cheapest and its price is 12000 USD`"
   ]
  },
  {
   "cell_type": "code",
   "execution_count": 5,
   "id": "lovely-oasis",
   "metadata": {},
   "outputs": [
    {
     "name": "stdout",
     "output_type": "stream",
     "text": [
      "The house with address Berlin, Coslada is the cheapest and its price is 600 usd\n"
     ]
    }
   ],
   "source": [
    "sorted_ds = ds[ds.price >  0][[\"price\",\"address\"]].sort_values(by = \"price\",ascending = True)\n",
    "min_price = sorted_ds.iloc[0,0]\n",
    "#print(min_price)\n",
    "min_address = sorted_ds.iloc[0,1]\n",
    "print(f\"The house with address {min_address} is the cheapest and its price is {min_price} usd\")"
   ]
  },
  {
   "attachments": {},
   "cell_type": "markdown",
   "id": "compliant-fellowship",
   "metadata": {},
   "source": [
    "#### Exercise 03. Which is the biggest and the smallest house in the dataset? (★☆☆)\n",
    "\n",
    "Print both the address and the surface of the selected houses. For example:\n",
    "\n",
    "`The biggest house is located on Yukka Street Nº10 and its surface is 5000 meters`\n",
    "\n",
    "`The smallest house is located on County Road 1 N and its surface is 200 meters`"
   ]
  },
  {
   "cell_type": "code",
   "execution_count": 6,
   "id": "every-tiffany",
   "metadata": {},
   "outputs": [
    {
     "name": "stdout",
     "output_type": "stream",
     "text": [
      "The smallest house is located on Calle Amparo,  Madrid Capital and its surface is 15 meters\n",
      "The biggest house is located on Sevilla la Nueva and its surface is 249000 meters\n"
     ]
    }
   ],
   "source": [
    "sorted_ds = ds[ds.surface >  0][[\"surface\",\"address\"]].sort_values(by = \"surface\",ascending = True)\n",
    "min_surface = round(sorted_ds.iloc[0,0])\n",
    "min_address = sorted_ds.iloc[0,1]\n",
    "print(f\"The smallest house is located on {min_address} and its surface is {min_surface} meters\")\n",
    "sorted_ds = ds[ds.surface >  0][[\"surface\",\"address\"]].sort_values(by = \"surface\",ascending = False)\n",
    "max_surface = round(sorted_ds.iloc[0,0])\n",
    "max_address = sorted_ds.iloc[0,1]\n",
    "print(f\"The biggest house is located on {max_address} and its surface is {max_surface} meters\")"
   ]
  },
  {
   "attachments": {},
   "cell_type": "markdown",
   "id": "danish-spirit",
   "metadata": {},
   "source": [
    "#### Exercise 04. How many populations (level5 column) the dataset contains? (★☆☆)\n",
    "\n",
    "Print the names of the populations with a comma as a separator. For example:\n",
    "\n",
    "`> print(populations)`\n",
    "\n",
    "`population1, population2, population3, ...`"
   ]
  },
  {
   "cell_type": "code",
   "execution_count": 7,
   "id": "exciting-accreditation",
   "metadata": {},
   "outputs": [
    {
     "data": {
      "text/plain": [
       "array(['Arganda del Rey', 'Fuenlabrada', 'Boadilla del Monte',\n",
       "       'Las Rozas de Madrid', ' Madrid Capital', 'Villaviciosa de Odón',\n",
       "       'Pinto', 'Valdemoro', 'Navalcarnero', 'Pozuelo de Alarcón',\n",
       "       'Torrejón de Ardoz', 'Navalagamella', 'San Sebastián de los Reyes',\n",
       "       'Rivas-vaciamadrid', 'Alpedrete', 'Móstoles',\n",
       "       'San Fernando de Henares', 'Coslada', 'Becerril de la Sierra',\n",
       "       'Alcalá de Henares', 'Chinchón', 'Parla', 'Alcorcón',\n",
       "       'El Escorial', 'Leganés', 'Pedrezuela', 'Majadahonda',\n",
       "       'Villanueva de la Cañada', 'Villanueva del Pardillo',\n",
       "       'Torrelodones', 'Moralzarzal', 'Mejorada del Campo', 'Aranjuez',\n",
       "       'Corpa', 'Getafe', 'Velilla de San Antonio', 'Sevilla la Nueva',\n",
       "       'San Martín de la Vega', 'Villalbilla', 'Collado Villalba',\n",
       "       'Alcobendas', 'El Molar (Madrid)', 'Moraleja de Enmedio', 'Algete',\n",
       "       'Campo Real', 'Torrejón de la Calzada', 'Colmenar Viejo',\n",
       "       'Valdemorillo', 'Fuente El Saz de Jarama', 'Tres Cantos',\n",
       "       'Arroyomolinos (Madrid)', 'Griñón', 'Paracuellos de Jarama',\n",
       "       'Guadarrama', 'Titulcia', 'Galapagar', 'Collado Mediano',\n",
       "       'Los Molinos', 'San Lorenzo de El Escorial', 'Loeches',\n",
       "       'San Martín de Valdeiglesias', 'Navas del Rey', 'Bustarviejo',\n",
       "       'Manzanares El Real', 'Carabaña', 'Casarrubuelos', 'Cercedilla',\n",
       "       'Fresnedillas de la Oliva', 'Valdemaqueda', 'Robledo de Chavela',\n",
       "       'Miraflores de la Sierra', 'Humanes de Madrid',\n",
       "       'Valdetorres de Jarama', 'San Agustín del Guadalix',\n",
       "       'Ciempozuelos', 'Camarma de Esteruelas', 'Torres de la Alameda',\n",
       "       'Talamanca de Jarama', 'El Atazar', 'Hoyo de Manzanares',\n",
       "       'El Boalo - Cerceda – Mataelpino', 'El Álamo', 'Valdilecha',\n",
       "       'Valdeolmos-Alalpardo', 'Guadalix de la Sierra',\n",
       "       'Belmonte de Tajo', 'El Vellón', 'Brunete', 'Redueña',\n",
       "       'Morata de Tajuña', 'Tielmes', 'Gargantilla del Lozoya', 'Meco',\n",
       "       'Venturada', 'Quijorna', 'Cenicientos', 'Torrejón de Velasco',\n",
       "       'Navacerrada', 'Santa María de la Alameda', 'Orusco de Tajuña',\n",
       "       'Daganzo de Arriba', 'Villamanta', 'Anchuelo', 'Valdaracete',\n",
       "       'Ajalvir', 'Los Santos de la Humosa', 'Villamanrique de Tajo',\n",
       "       'Colmenar de Oreja', 'Villa del Prado', 'Fuentidueña de Tajo',\n",
       "       'Colmenar del Arroyo', 'Valdelaguna', 'Cubas de la Sagra',\n",
       "       'Valdeavero', 'Aldea del Fresno', 'Ribatejada', 'Torrelaguna',\n",
       "       'Batres', 'Pezuela de las Torres', 'Colmenarejo',\n",
       "       'Serranillos del Valle', 'Cobeña', 'Soto del Real', 'El Berrueco',\n",
       "       'Villanueva de Perales', 'Fresno de Torote - Serracines',\n",
       "       'Pozuelo del Rey', 'Pelayos de la Presa', 'La Cabrera',\n",
       "       'Nuevo Baztán', 'Perales de Tajuña', 'Villaconejos',\n",
       "       'Villarejo de Salvanés', 'Cadalso de los Vidrios', 'Santorcaz',\n",
       "       'Madarcos', 'Garganta de los Montes', 'Puentes Viejas',\n",
       "       'Torremocha de Jarama', 'Valdemanco', 'Braojos',\n",
       "       'Lozoyuela-navas-sieteiglesias', 'Piñuécar-gandullas',\n",
       "       'Valdepiélagos', 'Valverde de Alcalá', 'Villar del Olmo',\n",
       "       'Villamantilla', 'Horcajo de la Sierra', 'Gascones', 'Zarzalejo',\n",
       "       'Villavieja del Lozoya', 'Brea de Tajo', 'Estremera', 'Chapinería',\n",
       "       'Navarredonda', 'Patones', 'Ambite', 'Navalafuente', 'Lozoya',\n",
       "       'Canencia', 'Cabanillas de la Sierra', 'Buitrago del Lozoya',\n",
       "       'Fresno de Torote', 'Robregordo', 'Pinilla del Valle', 'Rascafría',\n",
       "       'La Hiruela', 'Montejo de la Sierra'], dtype=object)"
      ]
     },
     "execution_count": 7,
     "metadata": {},
     "output_type": "execute_result"
    }
   ],
   "source": [
    "ds[\"level5\"].unique()"
   ]
  },
  {
   "cell_type": "code",
   "execution_count": 8,
   "id": "6be8c832",
   "metadata": {},
   "outputs": [
    {
     "data": {
      "text/plain": [
       "168"
      ]
     },
     "execution_count": 8,
     "metadata": {},
     "output_type": "execute_result"
    }
   ],
   "source": [
    "ds[\"level5\"].nunique()"
   ]
  },
  {
   "attachments": {},
   "cell_type": "markdown",
   "id": "crazy-blame",
   "metadata": {},
   "source": [
    "#### Exercise 05. Does the dataset contain NAs? (★☆☆)\n",
    "\n",
    "Print a boolean value (`True` or `False`) followed by the rows/cols that contains NAs."
   ]
  },
  {
   "cell_type": "code",
   "execution_count": 9,
   "id": "transparent-poetry",
   "metadata": {},
   "outputs": [
    {
     "data": {
      "text/plain": [
       "Unnamed: 0              0\n",
       "id_realEstates          0\n",
       "isNew                   0\n",
       "realEstate_name        10\n",
       "phone_realEstate      794\n",
       "url_inmueble            0\n",
       "rooms                 353\n",
       "bathrooms             345\n",
       "surface              1250\n",
       "price                   0\n",
       "date                    0\n",
       "description           142\n",
       "address                 0\n",
       "country                 0\n",
       "level1                  0\n",
       "level2                  0\n",
       "level3                  0\n",
       "level4               6643\n",
       "level5                  0\n",
       "level6              14627\n",
       "level7               2277\n",
       "level8               8579\n",
       "upperLevel              0\n",
       "countryId               0\n",
       "level1Id                0\n",
       "level2Id                0\n",
       "level3Id                0\n",
       "level4Id                0\n",
       "level5Id                0\n",
       "level6Id                0\n",
       "level7Id                0\n",
       "level8Id                0\n",
       "accuracy                0\n",
       "latitude                0\n",
       "longitude               0\n",
       "zipCode             15335\n",
       "customZone          15335\n",
       "dtype: int64"
      ]
     },
     "execution_count": 9,
     "metadata": {},
     "output_type": "execute_result"
    }
   ],
   "source": [
    "ds.isnull().sum()"
   ]
  },
  {
   "cell_type": "code",
   "execution_count": 10,
   "id": "547bdf7f",
   "metadata": {},
   "outputs": [
    {
     "data": {
      "text/plain": [
       "<Axes: >"
      ]
     },
     "execution_count": 10,
     "metadata": {},
     "output_type": "execute_result"
    },
    {
     "data": {
      "image/png": "[encoded data removed]",
      "text/plain": [
       "<Figure size 640x480 with 2 Axes>"
      ]
     },
     "metadata": {},
     "output_type": "display_data"
    }
   ],
   "source": [
    "sns.heatmap(ds.isnull())"
   ]
  },
  {
   "attachments": {},
   "cell_type": "markdown",
   "id": "italic-hydrogen",
   "metadata": {},
   "source": [
    "#### Exercise 06. Delete the NAs of the dataset, if applicable (★★☆)\n",
    "\n",
    "Print a comparison between the dimensions of the original DataFrame versus the DataFrame after the deletions."
   ]
  },
  {
   "cell_type": "code",
   "execution_count": 11,
   "id": "7314bf2b",
   "metadata": {},
   "outputs": [
    {
     "data": {
      "text/plain": [
       "np.int64(65690)"
      ]
     },
     "execution_count": 11,
     "metadata": {},
     "output_type": "execute_result"
    }
   ],
   "source": [
    "ds.isnull().sum().sum()"
   ]
  },
  {
   "cell_type": "code",
   "execution_count": 41,
   "id": "administrative-roads",
   "metadata": {},
   "outputs": [
    {
     "data": {
      "text/html": [
       "<div>\n",
       "<style scoped>\n",
       "    .dataframe tbody tr th:only-of-type {\n",
       "        vertical-align: middle;\n",
       "    }\n",
       "\n",
       "    .dataframe tbody tr th {\n",
       "        vertical-align: top;\n",
       "    }\n",
       "\n",
       "    .dataframe thead th {\n",
       "        text-align: right;\n",
       "    }\n",
       "</style>\n",
       "<table border=\"1\" class=\"dataframe\">\n",
       "  <thead>\n",
       "    <tr style=\"text-align: right;\">\n",
       "      <th></th>\n",
       "      <th>Unnamed: 0</th>\n",
       "      <th>id_realEstates</th>\n",
       "      <th>isNew</th>\n",
       "      <th>realEstate_name</th>\n",
       "      <th>phone_realEstate</th>\n",
       "      <th>url_inmueble</th>\n",
       "      <th>rooms</th>\n",
       "      <th>bathrooms</th>\n",
       "      <th>surface</th>\n",
       "      <th>price</th>\n",
       "      <th>...</th>\n",
       "      <th>level4Id</th>\n",
       "      <th>level5Id</th>\n",
       "      <th>level6Id</th>\n",
       "      <th>level7Id</th>\n",
       "      <th>level8Id</th>\n",
       "      <th>accuracy</th>\n",
       "      <th>latitude</th>\n",
       "      <th>longitude</th>\n",
       "      <th>zipCode</th>\n",
       "      <th>customZone</th>\n",
       "    </tr>\n",
       "  </thead>\n",
       "  <tbody>\n",
       "  </tbody>\n",
       "</table>\n",
       "<p>0 rows × 37 columns</p>\n",
       "</div>"
      ],
      "text/plain": [
       "Empty DataFrame\n",
       "Columns: [Unnamed: 0, id_realEstates, isNew, realEstate_name, phone_realEstate, url_inmueble, rooms, bathrooms, surface, price, date, description, address, country, level1, level2, level3, level4, level5, level6, level7, level8, upperLevel, countryId, level1Id, level2Id, level3Id, level4Id, level5Id, level6Id, level7Id, level8Id, accuracy, latitude, longitude, zipCode, customZone]\n",
       "Index: []\n",
       "\n",
       "[0 rows x 37 columns]"
      ]
     },
     "execution_count": 41,
     "metadata": {},
     "output_type": "execute_result"
    }
   ],
   "source": [
    "ds.dropna()"
   ]
  },
  {
   "attachments": {},
   "cell_type": "markdown",
   "id": "middle-china",
   "metadata": {},
   "source": [
    "#### Exercise 07. Which is the mean of prices in the population (level5 column) of \"Arroyomolinos (Madrid)\"? (★★☆)\n",
    "\n",
    "Print the obtained value."
   ]
  },
  {
   "cell_type": "code",
   "execution_count": 50,
   "id": "nuclear-belief",
   "metadata": {},
   "outputs": [
    {
     "data": {
      "text/plain": [
       "294542"
      ]
     },
     "execution_count": 50,
     "metadata": {},
     "output_type": "execute_result"
    }
   ],
   "source": [
    "round(ds[ds[\"level5\"] == \"Arroyomolinos (Madrid)\"][\"price\"].mean())"
   ]
  },
  {
   "attachments": {},
   "cell_type": "markdown",
   "id": "concerned-radical",
   "metadata": {},
   "source": [
    "#### Exercise 08. Plot the histogram of prices for the population (level5 column) of \"Arroyomolinos (Madrid)\" and explain what you observe (★★☆)\n",
    "\n",
    "Print the histogram of the prices and write in the Markdown cell a brief analysis about the plot."
   ]
  },
  {
   "cell_type": "code",
   "execution_count": 51,
   "id": "sudden-message",
   "metadata": {},
   "outputs": [
    {
     "data": {
      "text/plain": [
       "<Axes: ylabel='Frequency'>"
      ]
     },
     "execution_count": 51,
     "metadata": {},
     "output_type": "execute_result"
    },
    {
     "data": {
      "image/png": "[encoded data removed]",
      "text/plain": [
       "<Figure size 640x480 with 1 Axes>"
      ]
     },
     "metadata": {},
     "output_type": "display_data"
    }
   ],
   "source": [
    "ds[ds[\"level5\"] == \"Arroyomolinos (Madrid)\"][\"price\"].plot.hist()"
   ]
  },
  {
   "attachments": {},
   "cell_type": "markdown",
   "id": "impressed-combination",
   "metadata": {},
   "source": [
    "**TODO: Markdown**. To write here, double-click on this cell, remove this content and place the text you want to write. Then, execute the cell."
   ]
  },
  {
   "attachments": {},
   "cell_type": "markdown",
   "id": "actual-edinburgh",
   "metadata": {},
   "source": [
    "#### Exercise 09. Are the average prices of \"Valdemorillo\" and \"Galapagar\" the same? (★★☆)\n",
    "\n",
    "Print both average prices and then write a conclusion about them."
   ]
  },
  {
   "cell_type": "code",
   "execution_count": 55,
   "id": "numeric-commerce",
   "metadata": {},
   "outputs": [
    {
     "name": "stdout",
     "output_type": "stream",
     "text": [
      "they are not equal\n",
      "363860 360063\n"
     ]
    }
   ],
   "source": [
    "mean_valdemorillo = round(ds[ds[\"level5\"] == \"Valdemorillo\"][\"price\"].mean())\n",
    "mean_galapagar = round(ds[ds[\"level5\"] == \"Galapagar\"][\"price\"].mean())\n",
    "if mean_galapagar == mean_valdemorillo:\n",
    "    print(\"they are equal\") \n",
    "else:\n",
    "    print(\"they are not equal\")\n",
    "print (mean_valdemorillo,mean_galapagar)"
   ]
  },
  {
   "attachments": {},
   "cell_type": "markdown",
   "id": "lonely-article",
   "metadata": {},
   "source": [
    "#### Exercise 10. Are the average prices per square meter (price/m2) of \"Valdemorillo\" and \"Galapagar\" the same? (★★☆)\n",
    "\n",
    "Print both average prices and then write a conclusion about it.\n",
    "\n",
    "Hint: Create a new column called `pps` (price per square meter) and then analyze the values."
   ]
  },
  {
   "cell_type": "code",
   "execution_count": 57,
   "id": "2ad0df0e",
   "metadata": {},
   "outputs": [
    {
     "data": {
      "text/html": [
       "<div>\n",
       "<style scoped>\n",
       "    .dataframe tbody tr th:only-of-type {\n",
       "        vertical-align: middle;\n",
       "    }\n",
       "\n",
       "    .dataframe tbody tr th {\n",
       "        vertical-align: top;\n",
       "    }\n",
       "\n",
       "    .dataframe thead th {\n",
       "        text-align: right;\n",
       "    }\n",
       "</style>\n",
       "<table border=\"1\" class=\"dataframe\">\n",
       "  <thead>\n",
       "    <tr style=\"text-align: right;\">\n",
       "      <th></th>\n",
       "      <th>Unnamed: 0</th>\n",
       "      <th>id_realEstates</th>\n",
       "      <th>isNew</th>\n",
       "      <th>realEstate_name</th>\n",
       "      <th>phone_realEstate</th>\n",
       "      <th>url_inmueble</th>\n",
       "      <th>rooms</th>\n",
       "      <th>bathrooms</th>\n",
       "      <th>surface</th>\n",
       "      <th>price</th>\n",
       "      <th>...</th>\n",
       "      <th>level5Id</th>\n",
       "      <th>level6Id</th>\n",
       "      <th>level7Id</th>\n",
       "      <th>level8Id</th>\n",
       "      <th>accuracy</th>\n",
       "      <th>latitude</th>\n",
       "      <th>longitude</th>\n",
       "      <th>zipCode</th>\n",
       "      <th>customZone</th>\n",
       "      <th>ppm</th>\n",
       "    </tr>\n",
       "  </thead>\n",
       "  <tbody>\n",
       "    <tr>\n",
       "      <th>0</th>\n",
       "      <td>1</td>\n",
       "      <td>153771986</td>\n",
       "      <td>False</td>\n",
       "      <td>ferrari 57 inmobiliaria</td>\n",
       "      <td>912177526.0</td>\n",
       "      <td>https://www.fotocasa.es/es/comprar/vivienda/ma...</td>\n",
       "      <td>3.0</td>\n",
       "      <td>2.0</td>\n",
       "      <td>103.0</td>\n",
       "      <td>195000</td>\n",
       "      <td>...</td>\n",
       "      <td>0</td>\n",
       "      <td>0</td>\n",
       "      <td>0</td>\n",
       "      <td>0</td>\n",
       "      <td>0</td>\n",
       "      <td>40,2948276786438</td>\n",
       "      <td>-3,44402412135624</td>\n",
       "      <td>NaN</td>\n",
       "      <td>NaN</td>\n",
       "      <td>1893.203883</td>\n",
       "    </tr>\n",
       "    <tr>\n",
       "      <th>1</th>\n",
       "      <td>2</td>\n",
       "      <td>153867863</td>\n",
       "      <td>False</td>\n",
       "      <td>tecnocasa fuenlabrada ferrocarril</td>\n",
       "      <td>916358736.0</td>\n",
       "      <td>https://www.fotocasa.es/es/comprar/vivienda/ma...</td>\n",
       "      <td>3.0</td>\n",
       "      <td>1.0</td>\n",
       "      <td>NaN</td>\n",
       "      <td>89000</td>\n",
       "      <td>...</td>\n",
       "      <td>0</td>\n",
       "      <td>0</td>\n",
       "      <td>0</td>\n",
       "      <td>0</td>\n",
       "      <td>1</td>\n",
       "      <td>40,28674</td>\n",
       "      <td>-3,79351</td>\n",
       "      <td>NaN</td>\n",
       "      <td>NaN</td>\n",
       "      <td>NaN</td>\n",
       "    </tr>\n",
       "    <tr>\n",
       "      <th>2</th>\n",
       "      <td>3</td>\n",
       "      <td>153430440</td>\n",
       "      <td>False</td>\n",
       "      <td>look find boadilla</td>\n",
       "      <td>916350408.0</td>\n",
       "      <td>https://www.fotocasa.es/es/comprar/vivienda/ma...</td>\n",
       "      <td>2.0</td>\n",
       "      <td>2.0</td>\n",
       "      <td>99.0</td>\n",
       "      <td>390000</td>\n",
       "      <td>...</td>\n",
       "      <td>0</td>\n",
       "      <td>0</td>\n",
       "      <td>0</td>\n",
       "      <td>0</td>\n",
       "      <td>0</td>\n",
       "      <td>40,4115646786438</td>\n",
       "      <td>-3,90662252135624</td>\n",
       "      <td>NaN</td>\n",
       "      <td>NaN</td>\n",
       "      <td>3939.393939</td>\n",
       "    </tr>\n",
       "    <tr>\n",
       "      <th>3</th>\n",
       "      <td>4</td>\n",
       "      <td>152776331</td>\n",
       "      <td>False</td>\n",
       "      <td>tecnocasa fuenlabrada ferrocarril</td>\n",
       "      <td>916358736.0</td>\n",
       "      <td>https://www.fotocasa.es/es/comprar/vivienda/ma...</td>\n",
       "      <td>3.0</td>\n",
       "      <td>1.0</td>\n",
       "      <td>86.0</td>\n",
       "      <td>89000</td>\n",
       "      <td>...</td>\n",
       "      <td>0</td>\n",
       "      <td>0</td>\n",
       "      <td>0</td>\n",
       "      <td>0</td>\n",
       "      <td>0</td>\n",
       "      <td>40,2853785786438</td>\n",
       "      <td>-3,79508142135624</td>\n",
       "      <td>NaN</td>\n",
       "      <td>NaN</td>\n",
       "      <td>1034.883721</td>\n",
       "    </tr>\n",
       "    <tr>\n",
       "      <th>4</th>\n",
       "      <td>5</td>\n",
       "      <td>153180188</td>\n",
       "      <td>False</td>\n",
       "      <td>ferrari 57 inmobiliaria</td>\n",
       "      <td>912177526.0</td>\n",
       "      <td>https://www.fotocasa.es/es/comprar/vivienda/ma...</td>\n",
       "      <td>2.0</td>\n",
       "      <td>2.0</td>\n",
       "      <td>106.0</td>\n",
       "      <td>172000</td>\n",
       "      <td>...</td>\n",
       "      <td>0</td>\n",
       "      <td>0</td>\n",
       "      <td>0</td>\n",
       "      <td>0</td>\n",
       "      <td>0</td>\n",
       "      <td>40,2998774864376</td>\n",
       "      <td>-3,45226301356237</td>\n",
       "      <td>NaN</td>\n",
       "      <td>NaN</td>\n",
       "      <td>1622.641509</td>\n",
       "    </tr>\n",
       "    <tr>\n",
       "      <th>...</th>\n",
       "      <td>...</td>\n",
       "      <td>...</td>\n",
       "      <td>...</td>\n",
       "      <td>...</td>\n",
       "      <td>...</td>\n",
       "      <td>...</td>\n",
       "      <td>...</td>\n",
       "      <td>...</td>\n",
       "      <td>...</td>\n",
       "      <td>...</td>\n",
       "      <td>...</td>\n",
       "      <td>...</td>\n",
       "      <td>...</td>\n",
       "      <td>...</td>\n",
       "      <td>...</td>\n",
       "      <td>...</td>\n",
       "      <td>...</td>\n",
       "      <td>...</td>\n",
       "      <td>...</td>\n",
       "      <td>...</td>\n",
       "      <td>...</td>\n",
       "    </tr>\n",
       "    <tr>\n",
       "      <th>15330</th>\n",
       "      <td>15331</td>\n",
       "      <td>153901377</td>\n",
       "      <td>False</td>\n",
       "      <td>infocasa consulting</td>\n",
       "      <td>911360461.0</td>\n",
       "      <td>https://www.fotocasa.es/es/comprar/vivienda/ma...</td>\n",
       "      <td>2.0</td>\n",
       "      <td>1.0</td>\n",
       "      <td>96.0</td>\n",
       "      <td>259470</td>\n",
       "      <td>...</td>\n",
       "      <td>0</td>\n",
       "      <td>0</td>\n",
       "      <td>0</td>\n",
       "      <td>0</td>\n",
       "      <td>0</td>\n",
       "      <td>40,45416</td>\n",
       "      <td>-3,70286</td>\n",
       "      <td>NaN</td>\n",
       "      <td>NaN</td>\n",
       "      <td>2702.812500</td>\n",
       "    </tr>\n",
       "    <tr>\n",
       "      <th>15331</th>\n",
       "      <td>15332</td>\n",
       "      <td>150394373</td>\n",
       "      <td>False</td>\n",
       "      <td>inmobiliaria pulpon</td>\n",
       "      <td>912788039.0</td>\n",
       "      <td>https://www.fotocasa.es/es/comprar/vivienda/ma...</td>\n",
       "      <td>3.0</td>\n",
       "      <td>1.0</td>\n",
       "      <td>150.0</td>\n",
       "      <td>165000</td>\n",
       "      <td>...</td>\n",
       "      <td>0</td>\n",
       "      <td>0</td>\n",
       "      <td>0</td>\n",
       "      <td>0</td>\n",
       "      <td>0</td>\n",
       "      <td>40,36652</td>\n",
       "      <td>-3,48951</td>\n",
       "      <td>NaN</td>\n",
       "      <td>NaN</td>\n",
       "      <td>1100.000000</td>\n",
       "    </tr>\n",
       "    <tr>\n",
       "      <th>15332</th>\n",
       "      <td>15333</td>\n",
       "      <td>153901397</td>\n",
       "      <td>False</td>\n",
       "      <td>tecnocasa torrelodones</td>\n",
       "      <td>912780348.0</td>\n",
       "      <td>https://www.fotocasa.es/es/comprar/vivienda/ma...</td>\n",
       "      <td>4.0</td>\n",
       "      <td>2.0</td>\n",
       "      <td>175.0</td>\n",
       "      <td>495000</td>\n",
       "      <td>...</td>\n",
       "      <td>0</td>\n",
       "      <td>0</td>\n",
       "      <td>0</td>\n",
       "      <td>0</td>\n",
       "      <td>0</td>\n",
       "      <td>40,57444</td>\n",
       "      <td>-3,92124</td>\n",
       "      <td>NaN</td>\n",
       "      <td>NaN</td>\n",
       "      <td>2828.571429</td>\n",
       "    </tr>\n",
       "    <tr>\n",
       "      <th>15333</th>\n",
       "      <td>15334</td>\n",
       "      <td>152607440</td>\n",
       "      <td>False</td>\n",
       "      <td>inmobiliaria pulpon</td>\n",
       "      <td>912788039.0</td>\n",
       "      <td>https://www.fotocasa.es/es/comprar/vivienda/ma...</td>\n",
       "      <td>3.0</td>\n",
       "      <td>2.0</td>\n",
       "      <td>101.0</td>\n",
       "      <td>195000</td>\n",
       "      <td>...</td>\n",
       "      <td>0</td>\n",
       "      <td>0</td>\n",
       "      <td>0</td>\n",
       "      <td>0</td>\n",
       "      <td>0</td>\n",
       "      <td>40,36967</td>\n",
       "      <td>-3,48105</td>\n",
       "      <td>NaN</td>\n",
       "      <td>NaN</td>\n",
       "      <td>1930.693069</td>\n",
       "    </tr>\n",
       "    <tr>\n",
       "      <th>15334</th>\n",
       "      <td>15335</td>\n",
       "      <td>153901356</td>\n",
       "      <td>False</td>\n",
       "      <td>infocasa consulting</td>\n",
       "      <td>911360461.0</td>\n",
       "      <td>https://www.fotocasa.es/es/comprar/vivienda/ma...</td>\n",
       "      <td>3.0</td>\n",
       "      <td>2.0</td>\n",
       "      <td>152.0</td>\n",
       "      <td>765000</td>\n",
       "      <td>...</td>\n",
       "      <td>0</td>\n",
       "      <td>0</td>\n",
       "      <td>0</td>\n",
       "      <td>0</td>\n",
       "      <td>0</td>\n",
       "      <td>40,45773</td>\n",
       "      <td>-3,69068</td>\n",
       "      <td>NaN</td>\n",
       "      <td>NaN</td>\n",
       "      <td>5032.894737</td>\n",
       "    </tr>\n",
       "  </tbody>\n",
       "</table>\n",
       "<p>15335 rows × 38 columns</p>\n",
       "</div>"
      ],
      "text/plain": [
       "       Unnamed: 0  id_realEstates  isNew                    realEstate_name  \\\n",
       "0               1       153771986  False            ferrari 57 inmobiliaria   \n",
       "1               2       153867863  False  tecnocasa fuenlabrada ferrocarril   \n",
       "2               3       153430440  False                 look find boadilla   \n",
       "3               4       152776331  False  tecnocasa fuenlabrada ferrocarril   \n",
       "4               5       153180188  False            ferrari 57 inmobiliaria   \n",
       "...           ...             ...    ...                                ...   \n",
       "15330       15331       153901377  False                infocasa consulting   \n",
       "15331       15332       150394373  False                inmobiliaria pulpon   \n",
       "15332       15333       153901397  False             tecnocasa torrelodones   \n",
       "15333       15334       152607440  False                inmobiliaria pulpon   \n",
       "15334       15335       153901356  False                infocasa consulting   \n",
       "\n",
       "       phone_realEstate                                       url_inmueble  \\\n",
       "0           912177526.0  https://www.fotocasa.es/es/comprar/vivienda/ma...   \n",
       "1           916358736.0  https://www.fotocasa.es/es/comprar/vivienda/ma...   \n",
       "2           916350408.0  https://www.fotocasa.es/es/comprar/vivienda/ma...   \n",
       "3           916358736.0  https://www.fotocasa.es/es/comprar/vivienda/ma...   \n",
       "4           912177526.0  https://www.fotocasa.es/es/comprar/vivienda/ma...   \n",
       "...                 ...                                                ...   \n",
       "15330       911360461.0  https://www.fotocasa.es/es/comprar/vivienda/ma...   \n",
       "15331       912788039.0  https://www.fotocasa.es/es/comprar/vivienda/ma...   \n",
       "15332       912780348.0  https://www.fotocasa.es/es/comprar/vivienda/ma...   \n",
       "15333       912788039.0  https://www.fotocasa.es/es/comprar/vivienda/ma...   \n",
       "15334       911360461.0  https://www.fotocasa.es/es/comprar/vivienda/ma...   \n",
       "\n",
       "       rooms  bathrooms  surface   price  ... level5Id level6Id level7Id  \\\n",
       "0        3.0        2.0    103.0  195000  ...        0        0        0   \n",
       "1        3.0        1.0      NaN   89000  ...        0        0        0   \n",
       "2        2.0        2.0     99.0  390000  ...        0        0        0   \n",
       "3        3.0        1.0     86.0   89000  ...        0        0        0   \n",
       "4        2.0        2.0    106.0  172000  ...        0        0        0   \n",
       "...      ...        ...      ...     ...  ...      ...      ...      ...   \n",
       "15330    2.0        1.0     96.0  259470  ...        0        0        0   \n",
       "15331    3.0        1.0    150.0  165000  ...        0        0        0   \n",
       "15332    4.0        2.0    175.0  495000  ...        0        0        0   \n",
       "15333    3.0        2.0    101.0  195000  ...        0        0        0   \n",
       "15334    3.0        2.0    152.0  765000  ...        0        0        0   \n",
       "\n",
       "      level8Id accuracy          latitude          longitude zipCode  \\\n",
       "0            0        0  40,2948276786438  -3,44402412135624     NaN   \n",
       "1            0        1          40,28674           -3,79351     NaN   \n",
       "2            0        0  40,4115646786438  -3,90662252135624     NaN   \n",
       "3            0        0  40,2853785786438  -3,79508142135624     NaN   \n",
       "4            0        0  40,2998774864376  -3,45226301356237     NaN   \n",
       "...        ...      ...               ...                ...     ...   \n",
       "15330        0        0          40,45416           -3,70286     NaN   \n",
       "15331        0        0          40,36652           -3,48951     NaN   \n",
       "15332        0        0          40,57444           -3,92124     NaN   \n",
       "15333        0        0          40,36967           -3,48105     NaN   \n",
       "15334        0        0          40,45773           -3,69068     NaN   \n",
       "\n",
       "      customZone          ppm  \n",
       "0            NaN  1893.203883  \n",
       "1            NaN          NaN  \n",
       "2            NaN  3939.393939  \n",
       "3            NaN  1034.883721  \n",
       "4            NaN  1622.641509  \n",
       "...          ...          ...  \n",
       "15330        NaN  2702.812500  \n",
       "15331        NaN  1100.000000  \n",
       "15332        NaN  2828.571429  \n",
       "15333        NaN  1930.693069  \n",
       "15334        NaN  5032.894737  \n",
       "\n",
       "[15335 rows x 38 columns]"
      ]
     },
     "execution_count": 57,
     "metadata": {},
     "output_type": "execute_result"
    }
   ],
   "source": [
    "ds[\"ppm\"] = ds[\"price\"] / ds[\"surface\"]\n",
    "ds"
   ]
  },
  {
   "cell_type": "code",
   "execution_count": 58,
   "id": "hourly-globe",
   "metadata": {},
   "outputs": [
    {
     "name": "stdout",
     "output_type": "stream",
     "text": [
      "they are not equal\n",
      "1318 1606\n"
     ]
    }
   ],
   "source": [
    "ppm_valdemorillo = round(ds[ds[\"level5\"] == \"Valdemorillo\"][\"ppm\"].mean())\n",
    "ppm_galapagar = round(ds[ds[\"level5\"] == \"Galapagar\"][\"ppm\"].mean())\n",
    "if ppm_galapagar == ppm_valdemorillo:\n",
    "    print(\"they are equal\") \n",
    "else:\n",
    "    print(\"they are not equal\")\n",
    "print (ppm_valdemorillo,ppm_galapagar)"
   ]
  },
  {
   "attachments": {},
   "cell_type": "markdown",
   "id": "pleasant-invite",
   "metadata": {},
   "source": [
    "#### Exercise 11. Analyze the relation between the surface and the price of the houses (★★☆)\n",
    "\n",
    "Hint: You can make a `scatter plot`, then write a conclusion about it."
   ]
  },
  {
   "cell_type": "code",
   "execution_count": 11,
   "id": "common-drilling",
   "metadata": {},
   "outputs": [
    {
     "data": {
      "text/plain": [
       "<Axes: xlabel='surface', ylabel='price'>"
      ]
     },
     "execution_count": 11,
     "metadata": {},
     "output_type": "execute_result"
    },
    {
     "data": {
      "image/png": "[encoded data removed]",
      "text/plain": [
       "<Figure size 640x480 with 1 Axes>"
      ]
     },
     "metadata": {},
     "output_type": "display_data"
    }
   ],
   "source": [
    "ds.plot.scatter(x=\"surface\", y=\"price\")\n",
    "\n",
    "#ds[[\"surface\",\"price\"]].corr()"
   ]
  },
  {
   "attachments": {},
   "cell_type": "markdown",
   "id": "ahead-liquid",
   "metadata": {},
   "source": [
    "**TODO: Markdown**. To write here, double-click on this cell, remove this content and place the text you want to write. Then, execute the cell."
   ]
  },
  {
   "attachments": {},
   "cell_type": "markdown",
   "id": "coordinate-sunrise",
   "metadata": {},
   "source": [
    "#### Exercise 12. How many real estate agencies does the dataset contain? (★★☆)\n",
    "\n",
    "Print the obtained value."
   ]
  },
  {
   "cell_type": "code",
   "execution_count": 11,
   "id": "valid-honolulu",
   "metadata": {},
   "outputs": [
    {
     "name": "stdout",
     "output_type": "stream",
     "text": [
      "15335\n"
     ]
    }
   ],
   "source": [
    "real_estate_agencies = ds[\"id_realEstates\"].count()\n",
    "print(real_estate_agencies)"
   ]
  },
  {
   "attachments": {},
   "cell_type": "markdown",
   "id": "binding-ebony",
   "metadata": {},
   "source": [
    "#### Exercise 13. Which is the population (level5 column) that contains the most houses? (★★☆)\n",
    "\n",
    "Print both the population and the number of houses."
   ]
  },
  {
   "attachments": {},
   "cell_type": "markdown",
   "id": "entire-classification",
   "metadata": {},
   "source": [
    "#### Exercise 14. Now let's work with the \"south belt\" of Madrid. Make a subset of the original DataFrame that contains the following populations (level5 column): \"Fuenlabrada\", \"Leganés\", \"Getafe\", \"Alcorcón\" (★★☆)\n",
    "\n",
    "Hint: Filter the original DataFrame using the column `level5` and the function `isin`."
   ]
  },
  {
   "cell_type": "code",
   "execution_count": 17,
   "id": "static-perry",
   "metadata": {},
   "outputs": [
    {
     "name": "stdout",
     "output_type": "stream",
     "text": [
      "The population ' Madrid Capital' contains the most houses and the number of houses is 6643 \n"
     ]
    }
   ],
   "source": [
    "# Group by the 'level5' column to count the number of houses in each population\n",
    "population = ds.groupby(\"level5\")[\"level5\"].count()\n",
    "\n",
    "# Find the maximum number of houses and the population that has this maximum\n",
    "max_houses = population.max()\n",
    "#print(max_houses)\n",
    "max_population = population.idxmax()\n",
    "\n",
    "# Print out the population with the most houses and the count\n",
    "print(f\"The population '{max_population}' contains the most houses and the number of houses is {max_houses} \")\n"
   ]
  },
  {
   "cell_type": "code",
   "execution_count": 16,
   "id": "binary-input",
   "metadata": {},
   "outputs": [
    {
     "data": {
      "text/html": [
       "<div>\n",
       "<style scoped>\n",
       "    .dataframe tbody tr th:only-of-type {\n",
       "        vertical-align: middle;\n",
       "    }\n",
       "\n",
       "    .dataframe tbody tr th {\n",
       "        vertical-align: top;\n",
       "    }\n",
       "\n",
       "    .dataframe thead th {\n",
       "        text-align: right;\n",
       "    }\n",
       "</style>\n",
       "<table border=\"1\" class=\"dataframe\">\n",
       "  <thead>\n",
       "    <tr style=\"text-align: right;\">\n",
       "      <th></th>\n",
       "      <th>Unnamed: 0</th>\n",
       "      <th>id_realEstates</th>\n",
       "      <th>isNew</th>\n",
       "      <th>realEstate_name</th>\n",
       "      <th>phone_realEstate</th>\n",
       "      <th>url_inmueble</th>\n",
       "      <th>rooms</th>\n",
       "      <th>bathrooms</th>\n",
       "      <th>surface</th>\n",
       "      <th>price</th>\n",
       "      <th>...</th>\n",
       "      <th>level4Id</th>\n",
       "      <th>level5Id</th>\n",
       "      <th>level6Id</th>\n",
       "      <th>level7Id</th>\n",
       "      <th>level8Id</th>\n",
       "      <th>accuracy</th>\n",
       "      <th>latitude</th>\n",
       "      <th>longitude</th>\n",
       "      <th>zipCode</th>\n",
       "      <th>customZone</th>\n",
       "    </tr>\n",
       "  </thead>\n",
       "  <tbody>\n",
       "    <tr>\n",
       "      <th>1</th>\n",
       "      <td>2</td>\n",
       "      <td>153867863</td>\n",
       "      <td>False</td>\n",
       "      <td>tecnocasa fuenlabrada ferrocarril</td>\n",
       "      <td>916358736.0</td>\n",
       "      <td>https://www.fotocasa.es/es/comprar/vivienda/ma...</td>\n",
       "      <td>3.0</td>\n",
       "      <td>1.0</td>\n",
       "      <td>NaN</td>\n",
       "      <td>89000</td>\n",
       "      <td>...</td>\n",
       "      <td>0</td>\n",
       "      <td>0</td>\n",
       "      <td>0</td>\n",
       "      <td>0</td>\n",
       "      <td>0</td>\n",
       "      <td>1</td>\n",
       "      <td>40,28674</td>\n",
       "      <td>-3,79351</td>\n",
       "      <td>NaN</td>\n",
       "      <td>NaN</td>\n",
       "    </tr>\n",
       "    <tr>\n",
       "      <th>3</th>\n",
       "      <td>4</td>\n",
       "      <td>152776331</td>\n",
       "      <td>False</td>\n",
       "      <td>tecnocasa fuenlabrada ferrocarril</td>\n",
       "      <td>916358736.0</td>\n",
       "      <td>https://www.fotocasa.es/es/comprar/vivienda/ma...</td>\n",
       "      <td>3.0</td>\n",
       "      <td>1.0</td>\n",
       "      <td>86.0</td>\n",
       "      <td>89000</td>\n",
       "      <td>...</td>\n",
       "      <td>0</td>\n",
       "      <td>0</td>\n",
       "      <td>0</td>\n",
       "      <td>0</td>\n",
       "      <td>0</td>\n",
       "      <td>0</td>\n",
       "      <td>40,2853785786438</td>\n",
       "      <td>-3,79508142135624</td>\n",
       "      <td>NaN</td>\n",
       "      <td>NaN</td>\n",
       "    </tr>\n",
       "    <tr>\n",
       "      <th>85</th>\n",
       "      <td>86</td>\n",
       "      <td>153152077</td>\n",
       "      <td>False</td>\n",
       "      <td>sinergical inmobiliaria</td>\n",
       "      <td>NaN</td>\n",
       "      <td>https://www.fotocasa.es/es/comprar/vivienda/le...</td>\n",
       "      <td>1.0</td>\n",
       "      <td>1.0</td>\n",
       "      <td>50.0</td>\n",
       "      <td>107000</td>\n",
       "      <td>...</td>\n",
       "      <td>0</td>\n",
       "      <td>0</td>\n",
       "      <td>0</td>\n",
       "      <td>0</td>\n",
       "      <td>0</td>\n",
       "      <td>1</td>\n",
       "      <td>40,35059</td>\n",
       "      <td>-3,82693</td>\n",
       "      <td>NaN</td>\n",
       "      <td>NaN</td>\n",
       "    </tr>\n",
       "    <tr>\n",
       "      <th>94</th>\n",
       "      <td>95</td>\n",
       "      <td>153995577</td>\n",
       "      <td>False</td>\n",
       "      <td>viviendas365com</td>\n",
       "      <td>911226014.0</td>\n",
       "      <td>https://www.fotocasa.es/es/comprar/vivienda/le...</td>\n",
       "      <td>3.0</td>\n",
       "      <td>2.0</td>\n",
       "      <td>120.0</td>\n",
       "      <td>320000</td>\n",
       "      <td>...</td>\n",
       "      <td>0</td>\n",
       "      <td>0</td>\n",
       "      <td>0</td>\n",
       "      <td>0</td>\n",
       "      <td>0</td>\n",
       "      <td>0</td>\n",
       "      <td>40,31933</td>\n",
       "      <td>-3,77574</td>\n",
       "      <td>NaN</td>\n",
       "      <td>NaN</td>\n",
       "    </tr>\n",
       "    <tr>\n",
       "      <th>109</th>\n",
       "      <td>110</td>\n",
       "      <td>153586414</td>\n",
       "      <td>False</td>\n",
       "      <td>area uno asesores inmobiliarios</td>\n",
       "      <td>912664081.0</td>\n",
       "      <td>https://www.fotocasa.es/es/comprar/vivienda/ma...</td>\n",
       "      <td>3.0</td>\n",
       "      <td>3.0</td>\n",
       "      <td>142.0</td>\n",
       "      <td>425000</td>\n",
       "      <td>...</td>\n",
       "      <td>0</td>\n",
       "      <td>0</td>\n",
       "      <td>0</td>\n",
       "      <td>0</td>\n",
       "      <td>0</td>\n",
       "      <td>0</td>\n",
       "      <td>40,3313411</td>\n",
       "      <td>-3,8313868</td>\n",
       "      <td>NaN</td>\n",
       "      <td>NaN</td>\n",
       "    </tr>\n",
       "    <tr>\n",
       "      <th>...</th>\n",
       "      <td>...</td>\n",
       "      <td>...</td>\n",
       "      <td>...</td>\n",
       "      <td>...</td>\n",
       "      <td>...</td>\n",
       "      <td>...</td>\n",
       "      <td>...</td>\n",
       "      <td>...</td>\n",
       "      <td>...</td>\n",
       "      <td>...</td>\n",
       "      <td>...</td>\n",
       "      <td>...</td>\n",
       "      <td>...</td>\n",
       "      <td>...</td>\n",
       "      <td>...</td>\n",
       "      <td>...</td>\n",
       "      <td>...</td>\n",
       "      <td>...</td>\n",
       "      <td>...</td>\n",
       "      <td>...</td>\n",
       "      <td>...</td>\n",
       "    </tr>\n",
       "    <tr>\n",
       "      <th>15275</th>\n",
       "      <td>15276</td>\n",
       "      <td>153903887</td>\n",
       "      <td>False</td>\n",
       "      <td>aliseda servicios de gestion inmobiliaria</td>\n",
       "      <td>911368198.0</td>\n",
       "      <td>https://www.fotocasa.es/es/comprar/vivienda/al...</td>\n",
       "      <td>3.0</td>\n",
       "      <td>1.0</td>\n",
       "      <td>78.0</td>\n",
       "      <td>138000</td>\n",
       "      <td>...</td>\n",
       "      <td>0</td>\n",
       "      <td>0</td>\n",
       "      <td>0</td>\n",
       "      <td>0</td>\n",
       "      <td>0</td>\n",
       "      <td>1</td>\n",
       "      <td>40,31381</td>\n",
       "      <td>-3,83733</td>\n",
       "      <td>NaN</td>\n",
       "      <td>NaN</td>\n",
       "    </tr>\n",
       "    <tr>\n",
       "      <th>15291</th>\n",
       "      <td>15292</td>\n",
       "      <td>151697757</td>\n",
       "      <td>False</td>\n",
       "      <td>unipiso</td>\n",
       "      <td>912788631.0</td>\n",
       "      <td>https://www.fotocasa.es/es/comprar/vivienda/al...</td>\n",
       "      <td>3.0</td>\n",
       "      <td>2.0</td>\n",
       "      <td>110.0</td>\n",
       "      <td>279000</td>\n",
       "      <td>...</td>\n",
       "      <td>0</td>\n",
       "      <td>0</td>\n",
       "      <td>0</td>\n",
       "      <td>0</td>\n",
       "      <td>0</td>\n",
       "      <td>0</td>\n",
       "      <td>40,3259051</td>\n",
       "      <td>-3,76318</td>\n",
       "      <td>NaN</td>\n",
       "      <td>NaN</td>\n",
       "    </tr>\n",
       "    <tr>\n",
       "      <th>15305</th>\n",
       "      <td>15306</td>\n",
       "      <td>153902389</td>\n",
       "      <td>False</td>\n",
       "      <td>jadein ferrero</td>\n",
       "      <td>914871639.0</td>\n",
       "      <td>https://www.fotocasa.es/es/comprar/vivienda/ma...</td>\n",
       "      <td>3.0</td>\n",
       "      <td>2.0</td>\n",
       "      <td>85.0</td>\n",
       "      <td>170000</td>\n",
       "      <td>...</td>\n",
       "      <td>0</td>\n",
       "      <td>0</td>\n",
       "      <td>0</td>\n",
       "      <td>0</td>\n",
       "      <td>0</td>\n",
       "      <td>0</td>\n",
       "      <td>40,2882193</td>\n",
       "      <td>-3,8098617</td>\n",
       "      <td>NaN</td>\n",
       "      <td>NaN</td>\n",
       "    </tr>\n",
       "    <tr>\n",
       "      <th>15322</th>\n",
       "      <td>15323</td>\n",
       "      <td>153871864</td>\n",
       "      <td>False</td>\n",
       "      <td>gestion comercial</td>\n",
       "      <td>911220662.0</td>\n",
       "      <td>https://www.fotocasa.es/es/comprar/vivienda/ma...</td>\n",
       "      <td>3.0</td>\n",
       "      <td>1.0</td>\n",
       "      <td>91.0</td>\n",
       "      <td>112000</td>\n",
       "      <td>...</td>\n",
       "      <td>0</td>\n",
       "      <td>0</td>\n",
       "      <td>0</td>\n",
       "      <td>0</td>\n",
       "      <td>0</td>\n",
       "      <td>0</td>\n",
       "      <td>40,28282</td>\n",
       "      <td>-3,78892</td>\n",
       "      <td>NaN</td>\n",
       "      <td>NaN</td>\n",
       "    </tr>\n",
       "    <tr>\n",
       "      <th>15325</th>\n",
       "      <td>15326</td>\n",
       "      <td>153901467</td>\n",
       "      <td>False</td>\n",
       "      <td>montehogar 68</td>\n",
       "      <td>911790675.0</td>\n",
       "      <td>https://www.fotocasa.es/es/comprar/vivienda/ma...</td>\n",
       "      <td>2.0</td>\n",
       "      <td>2.0</td>\n",
       "      <td>99.0</td>\n",
       "      <td>215000</td>\n",
       "      <td>...</td>\n",
       "      <td>0</td>\n",
       "      <td>0</td>\n",
       "      <td>0</td>\n",
       "      <td>0</td>\n",
       "      <td>0</td>\n",
       "      <td>1</td>\n",
       "      <td>40,28062</td>\n",
       "      <td>-3,79869</td>\n",
       "      <td>NaN</td>\n",
       "      <td>NaN</td>\n",
       "    </tr>\n",
       "  </tbody>\n",
       "</table>\n",
       "<p>907 rows × 37 columns</p>\n",
       "</div>"
      ],
      "text/plain": [
       "       Unnamed: 0  id_realEstates  isNew  \\\n",
       "1               2       153867863  False   \n",
       "3               4       152776331  False   \n",
       "85             86       153152077  False   \n",
       "94             95       153995577  False   \n",
       "109           110       153586414  False   \n",
       "...           ...             ...    ...   \n",
       "15275       15276       153903887  False   \n",
       "15291       15292       151697757  False   \n",
       "15305       15306       153902389  False   \n",
       "15322       15323       153871864  False   \n",
       "15325       15326       153901467  False   \n",
       "\n",
       "                                 realEstate_name  phone_realEstate  \\\n",
       "1              tecnocasa fuenlabrada ferrocarril       916358736.0   \n",
       "3              tecnocasa fuenlabrada ferrocarril       916358736.0   \n",
       "85                       sinergical inmobiliaria               NaN   \n",
       "94                               viviendas365com       911226014.0   \n",
       "109              area uno asesores inmobiliarios       912664081.0   \n",
       "...                                          ...               ...   \n",
       "15275  aliseda servicios de gestion inmobiliaria       911368198.0   \n",
       "15291                                    unipiso       912788631.0   \n",
       "15305                             jadein ferrero       914871639.0   \n",
       "15322                          gestion comercial       911220662.0   \n",
       "15325                              montehogar 68       911790675.0   \n",
       "\n",
       "                                            url_inmueble  rooms  bathrooms  \\\n",
       "1      https://www.fotocasa.es/es/comprar/vivienda/ma...    3.0        1.0   \n",
       "3      https://www.fotocasa.es/es/comprar/vivienda/ma...    3.0        1.0   \n",
       "85     https://www.fotocasa.es/es/comprar/vivienda/le...    1.0        1.0   \n",
       "94     https://www.fotocasa.es/es/comprar/vivienda/le...    3.0        2.0   \n",
       "109    https://www.fotocasa.es/es/comprar/vivienda/ma...    3.0        3.0   \n",
       "...                                                  ...    ...        ...   \n",
       "15275  https://www.fotocasa.es/es/comprar/vivienda/al...    3.0        1.0   \n",
       "15291  https://www.fotocasa.es/es/comprar/vivienda/al...    3.0        2.0   \n",
       "15305  https://www.fotocasa.es/es/comprar/vivienda/ma...    3.0        2.0   \n",
       "15322  https://www.fotocasa.es/es/comprar/vivienda/ma...    3.0        1.0   \n",
       "15325  https://www.fotocasa.es/es/comprar/vivienda/ma...    2.0        2.0   \n",
       "\n",
       "       surface   price  ... level4Id level5Id level6Id level7Id level8Id  \\\n",
       "1          NaN   89000  ...        0        0        0        0        0   \n",
       "3         86.0   89000  ...        0        0        0        0        0   \n",
       "85        50.0  107000  ...        0        0        0        0        0   \n",
       "94       120.0  320000  ...        0        0        0        0        0   \n",
       "109      142.0  425000  ...        0        0        0        0        0   \n",
       "...        ...     ...  ...      ...      ...      ...      ...      ...   \n",
       "15275     78.0  138000  ...        0        0        0        0        0   \n",
       "15291    110.0  279000  ...        0        0        0        0        0   \n",
       "15305     85.0  170000  ...        0        0        0        0        0   \n",
       "15322     91.0  112000  ...        0        0        0        0        0   \n",
       "15325     99.0  215000  ...        0        0        0        0        0   \n",
       "\n",
       "      accuracy          latitude          longitude zipCode customZone  \n",
       "1            1          40,28674           -3,79351     NaN        NaN  \n",
       "3            0  40,2853785786438  -3,79508142135624     NaN        NaN  \n",
       "85           1          40,35059           -3,82693     NaN        NaN  \n",
       "94           0          40,31933           -3,77574     NaN        NaN  \n",
       "109          0        40,3313411         -3,8313868     NaN        NaN  \n",
       "...        ...               ...                ...     ...        ...  \n",
       "15275        1          40,31381           -3,83733     NaN        NaN  \n",
       "15291        0        40,3259051           -3,76318     NaN        NaN  \n",
       "15305        0        40,2882193         -3,8098617     NaN        NaN  \n",
       "15322        0          40,28282           -3,78892     NaN        NaN  \n",
       "15325        1          40,28062           -3,79869     NaN        NaN  \n",
       "\n",
       "[907 rows x 37 columns]"
      ]
     },
     "execution_count": 16,
     "metadata": {},
     "output_type": "execute_result"
    }
   ],
   "source": [
    "# Create a subset of the DataFrame for specific populations\n",
    "subset = ds[ds[\"level5\"].isin([\"Fuenlabrada\", \"Leganés\", \"Getafe\", \"Alcorcón\"])]\n",
    "subset"
   ]
  },
  {
   "attachments": {},
   "cell_type": "markdown",
   "id": "severe-fisher",
   "metadata": {},
   "source": [
    "#### Exercise 15. Make a bar plot of the median of the prices and explain what you observe (you must use the subset obtained in Exercise 14) (★★★)\n",
    "\n",
    "Print the bar of the median of the prices and write in the Markdown cell a brief analysis about the plot."
   ]
  },
  {
   "cell_type": "code",
   "execution_count": 31,
   "id": "lyric-bunch",
   "metadata": {},
   "outputs": [
    {
     "data": {
      "text/plain": [
       "280000"
      ]
     },
     "execution_count": 31,
     "metadata": {},
     "output_type": "execute_result"
    }
   ],
   "source": [
    "median_price = round(ds[\"price\"].median())\n",
    "median_price"
   ]
  },
  {
   "cell_type": "code",
   "execution_count": 29,
   "id": "c3429c6e",
   "metadata": {},
   "outputs": [
    {
     "data": {
      "text/plain": [
       "Index(['Alcorcón', 'Fuenlabrada', 'Getafe', 'Leganés'], dtype='object', name='level5')"
      ]
     },
     "execution_count": 29,
     "metadata": {},
     "output_type": "execute_result"
    }
   ],
   "source": [
    "population = round(subset.groupby(\"level5\")[\"price\"].median()).index\n",
    "population"
   ]
  },
  {
   "cell_type": "code",
   "execution_count": 34,
   "id": "d75b6f59",
   "metadata": {},
   "outputs": [
    {
     "data": {
      "text/plain": [
       "<BarContainer object of 4 artists>"
      ]
     },
     "execution_count": 34,
     "metadata": {},
     "output_type": "execute_result"
    },
    {
     "data": {
      "image/png": "[encoded data removed]",
      "text/plain": [
       "<Figure size 1800x400 with 1 Axes>"
      ]
     },
     "metadata": {},
     "output_type": "display_data"
    }
   ],
   "source": [
    "plt.figure(figsize=(18,4))\n",
    "plt.title(\"Barplot of prices in southern Madrid\")\n",
    "plt.xlabel(\"Population\")\n",
    "plt.ylabel(\"Price\")\n",
    "plt.ticklabel_format(style='plain')\n",
    "plt.bar(population, prices, color='purple', alpha=0.6)"
   ]
  },
  {
   "attachments": {},
   "cell_type": "markdown",
   "id": "sublime-newspaper",
   "metadata": {},
   "source": [
    "**TODO: Markdown**. To write here, double-click on this cell, remove this content and place the text you want to write. Then, execute the cell."
   ]
  },
  {
   "attachments": {},
   "cell_type": "markdown",
   "id": "speaking-diamond",
   "metadata": {},
   "source": [
    "#### Exercise 16. Calculate the sample mean and variance of the variables: price, rooms, surface area and bathrooms (you must use the subset obtained in Exercise 14) (★★★)\n",
    "\n",
    "Print both values for each variable."
   ]
  },
  {
   "cell_type": "code",
   "execution_count": 35,
   "id": "random-feeling",
   "metadata": {},
   "outputs": [
    {
     "name": "stdout",
     "output_type": "stream",
     "text": [
      "The sample's mean and variance scores for price was 223094.48 and 14921367508.05 respectively.\n",
      "The sample's mean and variance scores for rooms was 3.02 and 0.72 respectively.\n",
      "The sample's mean and variance scores for surface area was 111.75 and 4263.05 respectively.\n",
      "The sample's mean and variance scores for bathrooms was 1.63 and 0.57 respectively.\n"
     ]
    }
   ],
   "source": [
    "print(\"The sample's mean and variance scores for price was \" + str(round(subset[\"price\"].mean(),2)) + \" and \" + str(round(subset[\"price\"].var(),2)) + \" respectively.\")\n",
    "print(\"The sample's mean and variance scores for rooms was \" + str(round(subset[\"rooms\"].mean(),2)) + \" and \" + str(round(subset[\"rooms\"].var(),2)) + \" respectively.\")\n",
    "print(\"The sample's mean and variance scores for surface area was \" + str(round(subset[\"surface\"].mean(),2)) + \" and \" + str(round(subset[\"surface\"].var(),2)) + \" respectively.\")\n",
    "print(\"The sample's mean and variance scores for bathrooms was \" + str(round(subset[\"bathrooms\"].mean(),2)) + \" and \" + str(round(subset[\"bathrooms\"].var(),2)) + \" respectively.\")"
   ]
  },
  {
   "attachments": {},
   "cell_type": "markdown",
   "id": "revolutionary-matrix",
   "metadata": {},
   "source": [
    "#### Exercise 17. What is the most expensive house in each population? You must use the subset obtained in Exercise 14 (★★☆)\n",
    "\n",
    "Print both the address and the price of the selected house of each population. You can print a DataFrame or a single line for each population."
   ]
  },
  {
   "cell_type": "code",
   "execution_count": 36,
   "id": "fifteen-browse",
   "metadata": {},
   "outputs": [
    {
     "name": "stdout",
     "output_type": "stream",
     "text": [
      "The address for the highest priced property in Fuenlabrada is Calle de Paulo Freire, 5, Fuenlabrada and its price is 490000 USD.\n",
      "The address for the highest priced property in Alcorcón is Alcorcón and its price is 950000 USD.\n",
      "The address for the highest priced property in Leganés is Avenida Reina Sofía, Leganés and its price is 650000 USD.\n",
      "The address for the highest priced property in Getafe is Getafe and its price is 1050000 USD.\n"
     ]
    }
   ],
   "source": [
    "for i in subset[\"level5\"].unique():\n",
    "    subset17 = subset[subset[\"level5\"] == i]\n",
    "    max_price_idx = subset17[\"price\"].idxmax()\n",
    "    \n",
    "    max_address = subset.loc[max_price_idx][\"address\"]\n",
    "    max_price = subset17[\"price\"].max()\n",
    "    print(f\"The address for the highest priced property in {i} is {max_address} and its price is {max_price} USD.\")"
   ]
  },
  {
   "attachments": {},
   "cell_type": "markdown",
   "id": "activated-knight",
   "metadata": {},
   "source": [
    "#### Exercise 18. Normalize the variable of prices for each population and plot the 4 histograms in the same plot (you must use the subset obtained in Exercise 14) (★★★)\n",
    "\n",
    "For the normalization method, you can use the one you consider; there is not a single correct answer to this question. Print the plot and write in the Markdown cell a brief analysis about the plot.\n",
    "\n",
    "Hint: You can help yourself by reviewing the *multihist* demo of Matplotlib."
   ]
  },
  {
   "cell_type": "code",
   "execution_count": 23,
   "id": "civic-meditation",
   "metadata": {},
   "outputs": [],
   "source": [
    "def min_max_normalize(series):\n",
    "    return(series - series.min()) / (series.max() - series.min())"
   ]
  },
  {
   "cell_type": "code",
   "execution_count": 25,
   "id": "cb2965d5",
   "metadata": {},
   "outputs": [],
   "source": [
    "subset.loc[:, 'Normalized_Price'] = subset.groupby('level5')['price'].transform(min_max_normalize)"
   ]
  },
  {
   "cell_type": "code",
   "execution_count": 27,
   "id": "4027038b",
   "metadata": {},
   "outputs": [
    {
     "data": {
      "image/png": "[encoded data removed]",
      "text/plain": [
       "<Figure size 1000x600 with 1 Axes>"
      ]
     },
     "metadata": {},
     "output_type": "display_data"
    }
   ],
   "source": [
    "plt.figure(figsize=(10, 6))\n",
    "populations = [\"Fuenlabrada\", \"Leganés\", \"Getafe\", \"Alcorcón\"]\n",
    "\n",
    "for population in populations:\n",
    "    # Extract normalized prices for the current population\n",
    "    data = subset[subset['level5'] == population]['Normalized_Price']\n",
    "    \n",
    "    plt.hist(data, bins=20, alpha=0.5, label=population)\n",
    "\n",
    "plt.title('Normalized House Prices for Different Populations')\n",
    "plt.xlabel('Normalized Price')\n",
    "plt.ylabel('Frequency')\n",
    "plt.show()"
   ]
  },
  {
   "attachments": {},
   "cell_type": "markdown",
   "id": "precise-heavy",
   "metadata": {},
   "source": []
  },
  {
   "attachments": {},
   "cell_type": "markdown",
   "id": "patent-jonathan",
   "metadata": {},
   "source": [
    "#### Exercise 19. What can you say about the price per square meter (price/m2) between the towns of \"Getafe\" and \"Alcorcón\"? You must use the subset obtained in Exercise 14 (★★☆)\n",
    "\n",
    "Hint: Create a new column called `pps` (price per square meter) and then analyze the values."
   ]
  },
  {
   "cell_type": "code",
   "execution_count": 29,
   "id": "initial-liverpool",
   "metadata": {},
   "outputs": [],
   "source": [
    "subset = subset.copy()\n",
    "subset.loc[:, 'pps'] = subset['price'] / subset['surface']"
   ]
  },
  {
   "cell_type": "code",
   "execution_count": 31,
   "id": "439e2b40",
   "metadata": {},
   "outputs": [],
   "source": [
    "getafe_data = subset[subset['level5'] == 'Getafe']\n",
    "alcorcon_data = subset[subset['level5'] == 'Alcorcón']"
   ]
  },
  {
   "cell_type": "code",
   "execution_count": 32,
   "id": "e8ba1a72",
   "metadata": {},
   "outputs": [
    {
     "name": "stdout",
     "output_type": "stream",
     "text": [
      "Getafe - Mean Price per Square Meter: 2066.31 USD/m2\n",
      "Getafe - Median Price per Square Meter: 1973.33 USD/m2\n",
      "Alcorcón - Mean Price per Square Meter: 2239.30 USD/m2\n",
      "Alcorcón - Median Price per Square Meter: 2207.79 USD/m2\n"
     ]
    }
   ],
   "source": [
    "getafe_mean_pps = getafe_data['pps'].mean()\n",
    "getafe_median_pps = getafe_data['pps'].median()\n",
    "\n",
    "alcorcon_mean_pps = alcorcon_data['pps'].mean()\n",
    "alcorcon_median_pps = alcorcon_data['pps'].median()\n",
    "\n",
    "print(f\"Getafe - Mean Price per Square Meter: {getafe_mean_pps:.2f} USD/m2\")\n",
    "print(f\"Getafe - Median Price per Square Meter: {getafe_median_pps:.2f} USD/m2\")\n",
    "print(f\"Alcorcón - Mean Price per Square Meter: {alcorcon_mean_pps:.2f} USD/m2\")\n",
    "print(f\"Alcorcón - Median Price per Square Meter: {alcorcon_median_pps:.2f} USD/m2\")"
   ]
  },
  {
   "attachments": {},
   "cell_type": "markdown",
   "id": "enhanced-moscow",
   "metadata": {},
   "source": [
    "#### Exercise 20. Make the same plot for 4 different populations (level5 column) and rearrange them on the same graph. You must use the subset obtained in Exercise 14 (★★☆)\n",
    " \n",
    "Hint: Make a scatter plot of each population using subplots."
   ]
  },
  {
   "cell_type": "code",
   "execution_count": 33,
   "id": "accepting-airfare",
   "metadata": {},
   "outputs": [],
   "source": [
    "subset = subset.copy()\n",
    "subset.loc[:, 'pps'] = subset['price'] / subset['surface']"
   ]
  },
  {
   "cell_type": "code",
   "execution_count": 34,
   "id": "1cb4d7d9",
   "metadata": {},
   "outputs": [
    {
     "data": {
      "image/png": "[encoded data removed]",
      "text/plain": [
       "<Figure size 1400x1000 with 4 Axes>"
      ]
     },
     "metadata": {},
     "output_type": "display_data"
    }
   ],
   "source": [
    "populations = [\"Fuenlabrada\", \"Leganés\", \"Getafe\", \"Alcorcón\"]\n",
    "\n",
    "fig, axes = plt.subplots(2, 2, figsize=(14, 10), sharex=True, sharey=True)\n",
    "axes = axes.flatten()\n",
    "\n",
    "for i, population in enumerate(populations):\n",
    "    data = subset[subset['level5'] == population]\n",
    "    axes[i].scatter(data['surface'], data['pps'], alpha=0.5)\n",
    "    axes[i].set_title(f'{population}')\n",
    "    axes[i].set_xlabel('Surface Area (m2)')\n",
    "    axes[i].set_ylabel('Price per Square Meter (USD/m2)')\n",
    "\n",
    "plt.show()"
   ]
  },
  {
   "attachments": {},
   "cell_type": "markdown",
   "id": "blocked-effects",
   "metadata": {},
   "source": [
    "#### Exercise 21. Make a plot of the coordinates (latitude and longitude columns) of the south belt of Madrid by color of each population (you must use the subset obtained in Exercise 14) (★★★★)\n",
    "\n",
    "Execute the following cell, and then start coding in the next one. You must implement a simple code that transforms the coordinates columns in a Python dictionary (add more information if needed) and then add it to the map"
   ]
  },
  {
   "cell_type": "code",
   "execution_count": 57,
   "id": "54a51ad1",
   "metadata": {},
   "outputs": [],
   "source": [
    "from ipyleaflet import Map, CircleMarker, basemaps\n",
    "from ipywidgets import Layout\n",
    "\n",
    "madrid_center = (40.3, -3.7)\n",
    "\n",
    "map = Map(center=madrid_center, zoom=12, min_zoom=10, max_zoom=20, basemap=basemaps.OpenStreetMap.Mapnik, layout=Layout(width='800px', height='600px'))\n",
    "map\n",
    "\n",
    "coordinates_dict = {}\n",
    "\n",
    "for population in subset['level5'].unique():\n",
    "    # Filter data for the current population\n",
    "    pop_data = subset[subset['level5'] == population]\n",
    "    # Create a list of tuples (latitude, longitude) for the population\n",
    "    coordinates_dict[population] = list(zip(pop_data['latitude'], pop_data['longitude']))"
   ]
  },
  {
   "cell_type": "code",
   "execution_count": 58,
   "id": "headed-privacy",
   "metadata": {},
   "outputs": [
    {
     "data": {
      "application/vnd.jupyter.widget-view+json": {
       "model_id": "48739dd6ec894204a312275ee30ad647",
       "version_major": 2,
       "version_minor": 0
      },
      "text/plain": [
       "Map(center=[40.3, -3.7], controls=(ZoomControl(options=['position', 'zoom_in_text', 'zoom_in_title', 'zoom_out…"
      ]
     },
     "execution_count": 58,
     "metadata": {},
     "output_type": "execute_result"
    }
   ],
   "source": [
    "colors = {\n",
    "    \"Fuenlabrada\": \"blue\",\n",
    "    \"Leganés\": \"green\",\n",
    "    \"Getafe\": \"red\",\n",
    "    \"Alcorcón\": \"purple\"\n",
    "}\n",
    "\n",
    "for index, row in subset.iterrows():\n",
    "    population = row['level5']\n",
    "    color = colors.get(population, \"black\")  # Default color black if not found\n",
    "    marker = CircleMarker(\n",
    "        location=(row['latitude'], row['longitude']),\n",
    "        radius=5,\n",
    "        color=color,\n",
    "        fill_color=color,\n",
    "        fill_opacity=0.6\n",
    "    )\n",
    "map.add_layer(marker)\n",
    "map\n"
   ]
  }
 ],
 "metadata": {
  "kernelspec": {
   "display_name": "Python 3",
   "language": "python",
   "name": "python3"
  },
  "language_info": {
   "codemirror_mode": {
    "name": "ipython",
    "version": 3
   },
   "file_extension": ".py",
   "mimetype": "text/x-python",
   "name": "python",
   "nbconvert_exporter": "python",
   "pygments_lexer": "ipython3",
   "version": "3.11.4"
  }
 },
 "nbformat": 4,
 "nbformat_minor": 5
}
